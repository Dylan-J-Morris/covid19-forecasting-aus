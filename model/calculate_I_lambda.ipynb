{
 "cells": [
  {
   "cell_type": "code",
   "execution_count": null,
   "metadata": {},
   "outputs": [],
   "source": [
    "import pandas as pd\n",
    "import numpy as np\n",
    "import matplotlib.pyplot as plt\n",
    "import seaborn as sns\n",
    "\n",
    "plt.style.use('seaborn-poster')\n",
    "from datetime import datetime as dt\n",
    "from datetime import timedelta\n",
    "import glob\n",
    "    \n",
    "from Reff_functions import *\n",
    "from Reff_constants import *\n",
    "from scipy.stats import gamma\n"
   ]
  },
  {
   "cell_type": "code",
   "execution_count": null,
   "metadata": {},
   "outputs": [],
   "source": [
    "#Code taken from read_in_cases from Reff_functions. Preprocessing was not helpful for this situation.\n",
    "\n",
    "case_file_date='29Jun'\n",
    "path = \"../data/COVID-19 UoM \"+case_file_date+\"*.xlsx\"\n",
    "\n",
    "for file in glob.glob(path):\n",
    "    df_NNDSS = pd.read_excel(file,\n",
    "                       parse_dates=['SPECIMEN_DATE','NOTIFICATION_DATE','NOTIFICATION_RECEIVE_DATE','TRUE_ONSET_DATE'],\n",
    "                       dtype= {'PLACE_OF_ACQUISITION':str})\n",
    "    df_NNDSS.PLACE_OF_ACQUISITION.fillna('00038888',inplace=True) #Fill blanks with simply unknown\n",
    "\n",
    "   # df_NNDSS['date_inferred'] = df_NNDSS.TRUE_ONSET_DATE\n",
    "  #  df_NNDSS.loc[df_NNDSS.TRUE_ONSET_DATE.isna(),'date_inferred'] = df_NNDSS.loc[df_NNDSS.TRUE_ONSET_DATE.isna()].NOTIFICATION_DATE - timedelta(days=5)\n",
    "  #  df_NNDSS.loc[df_NNDSS.date_inferred.isna(),'date_inferred'] = df_NNDSS.loc[df_NNDSS.date_inferred.isna()].NOTIFICATION_RECEIVE_DATE - timedelta(days=6)    \n",
    "df_NNDSS['imported'] = df_NNDSS.PLACE_OF_ACQUISITION.apply(lambda x: 1 if x[-4:]=='8888' and x != '00038888' else 0)\n",
    "df_NNDSS['local'] = 1 - df_NNDSS.imported\n",
    "\n",
    "df_interim = df_NNDSS[['NOTIFICATION_DATE','STATE','imported','local']] \n",
    "# Importantly, imported and local are indicator variables in df_interim.\n",
    "\n",
    "#df_state = df_NNDSS[['NOTIFICATION_DATE','STATE','imported','local']].groupby(['STATE','NOTIFICATION_DATE']).sum()"
   ]
  },
  {
   "cell_type": "code",
   "execution_count": null,
   "metadata": {},
   "outputs": [],
   "source": [
    "df_interim = df_interim[~df_interim.NOTIFICATION_DATE.isna()] #Get rid of non-existent dates."
   ]
  },
  {
   "cell_type": "code",
   "execution_count": null,
   "metadata": {},
   "outputs": [],
   "source": [
    "#Filter out territories\n",
    "df_linel = df_interim[(df_interim['STATE']!='NT') & (df_interim['STATE']!='ACT')]\n",
    "#Melt down so that imported and local are no longer columns. Allows multiple draws for infection date.\n",
    "df_linel = df_linel.melt(id_vars = ['NOTIFICATION_DATE','STATE'], var_name = 'SOURCE',value_name='n_cases')\n",
    "\n",
    "#Reset index or the joining doesn't work\n",
    "df_linel = df_linel[df_linel.n_cases!=0]\n",
    "df_linel = df_linel.reset_index()\n"
   ]
  },
  {
   "cell_type": "markdown",
   "metadata": {},
   "source": [
    "## Part 1: Inferring infection dates\n",
    "$\\Lambda$ depends on the infection date (ID), while the data contains the notification date (ND). We obtain ID through the following relationship:\n",
    "$$\n",
    "ID = ND - reporting\\_delay - incubation\\_period.\n",
    "$$\n",
    "\n"
   ]
  },
  {
   "cell_type": "markdown",
   "metadata": {},
   "source": [
    "A gamma distribution was fitted to case data using the MLE algorithm to produce distributions for reporting delay and incubation period. "
   ]
  },
  {
   "cell_type": "code",
   "execution_count": null,
   "metadata": {},
   "outputs": [],
   "source": [
    "##uncomment for debugging\n",
    "# notification_dates = df_linel['NOTIFICATION_DATE']\n",
    "# mean_rd = 5.47\n",
    "# sd_rd = 4.04\n",
    "# mean_inc = 2.0\n",
    "# sd_inc = 1.41\n",
    "# nreplicates = 3"
   ]
  },
  {
   "cell_type": "code",
   "execution_count": null,
   "metadata": {},
   "outputs": [],
   "source": [
    "##gamma draws take arguments (shape, scale)\n",
    "def create_inf_dates(notification_dates, mean_rd=5.47, sd_rd=4.04,\n",
    "                    mean_inc=2.0, sd_inc=1.41, nreplicates=1):\n",
    "\n",
    "    nsamples = notification_dates.shape[0]\n",
    "\n",
    "    #    DEFINE DELAY DISTRIBUTION\n",
    "    #     mean_rd = 5.47\n",
    "    #     sd_rd = 4.04\n",
    "    scale_rd = mean_rd/(sd_rd)**2\n",
    "    shape_rd = mean_rd/scale_rd\n",
    "\n",
    "    # DEFINE INCUBATION PERIOD DISTRIBUTION\n",
    "    #     mean_inc = 2.0\n",
    "    #     sd_inc = 1.41\n",
    "    scale_inc = mean_inc/(sd_inc)**2\n",
    "    shape_inc = mean_inc/scale_inc\n",
    "\n",
    "    #Draw from distributions - these are long vectors\n",
    "    inc_period = np.random.gamma(shape_inc, scale_inc, size = (nsamples*nreplicates))\n",
    "    rep_delay = np.random.gamma(shape_rd, scale_rd, size = (nsamples*nreplicates))\n",
    "\n",
    "    #infection date is id_nd_diff days before notification date. This is also a long vector.\n",
    "    id_nd_diff = inc_period + rep_delay\n",
    "\n",
    "    #Minutes aren't included in df. Take the ceiling because the day runs from 0000 to 2359. This can still be a long vector.\n",
    "    whole_day_diff = np.ceil(id_nd_diff) \n",
    "    time_day_diffmat = whole_day_diff.astype('timedelta64[D]').reshape((nsamples, nreplicates))\n",
    "\n",
    "    #Vector must be coerced into a nsamples by nreplicates array. Then each column must be subtracted from notification_dates. \n",
    "    #Subtract days off of notification dates.\n",
    "\n",
    "    notification_mat = np.tile(notification_dates, (nreplicates,1)).T #notification_dates is repeated as a column nreplicates times.\n",
    "\n",
    "    infection_dates = notification_mat - time_day_diffmat\n",
    "\n",
    "    return(infection_dates)"
   ]
  },
  {
   "cell_type": "code",
   "execution_count": null,
   "metadata": {},
   "outputs": [],
   "source": [
    "nreps = 100\n",
    "infdates = create_inf_dates(df_linel['NOTIFICATION_DATE'], nreplicates=nreps)\n",
    "datecolnames = [*map(str,range(nreps))]\n",
    "infdates_df = pd.DataFrame(infdates,columns = datecolnames)\n",
    "\n",
    "#Add new infection_dates to the linelist data as columns. \n",
    "df_inf = pd.concat([df_linel, infdates_df], axis=1, verify_integrity=True)\n",
    "df_inf.head()"
   ]
  },
  {
   "cell_type": "code",
   "execution_count": null,
   "metadata": {},
   "outputs": [],
   "source": [
    "#\n",
    "df_combined = df_inf[['STATE','SOURCE',datecolnames[0],'n_cases']].groupby(['STATE', datecolnames[0],'SOURCE']).sum()\n",
    "for cn in range(1,nreps):\n",
    "    df_addin = df_inf[['STATE','SOURCE',datecolnames[cn],'n_cases']].groupby(['STATE', datecolnames[cn],'SOURCE']).sum()\n",
    "    df_combined = pd.concat([df_combined,df_addin], axis=1, ignore_index = True)\n",
    "\n",
    "#NaNs are inserted for missing values when concatenating. If it's missing, there were zero infections\n",
    "df_combined[np.isnan(df_combined)]=0\n",
    "df_combined.index.set_names([\"STATE\",\"INFECTION_DATE\",\"SOURCE\"], inplace=True)"
   ]
  },
  {
   "cell_type": "code",
   "execution_count": null,
   "metadata": {},
   "outputs": [],
   "source": [
    "#df_combined = df_combined.reset_index()\n",
    "#Use indices for filling dates, so don't collapse them yet.\n",
    "df_combined.head()\n",
    "#It makes sense for df_combined to have considerably fewer rows, since rows now represent more than one case."
   ]
  },
  {
   "cell_type": "code",
   "execution_count": null,
   "metadata": {},
   "outputs": [],
   "source": [
    "# Reindex to include days with zero total infections.\n",
    "local_infs = df_combined.xs('local',level='SOURCE')\n",
    "imported_infs = df_combined.xs('imported',level='SOURCE')\n",
    "statelist = [*dftest.index.get_level_values('STATE').unique()]\n",
    "\n",
    "#Should all states have the same start date? Current code starts from the first case in each state.\n",
    "#For the same start date:\n",
    "local_statedict = dict(zip(statelist, np.repeat(None, len(statelist))))\n",
    "imported_statedict = dict(zip(statelist, np.repeat(None, len(statelist))))\n",
    "\n",
    "start_date = np.datetime64(\"2020-02-01\")\n",
    "\n",
    "#Determine end dates as the last infected date by state.\n",
    "index_only = df_combined.index.to_frame()\n",
    "index_only = index_only.reset_index(drop=True)\n",
    "maxdates = test.groupby(['STATE'])['INFECTION_DATE'].max()\n",
    "\n",
    "for aus_state in statelist:\n",
    "    state_data = local_infs.xs(aus_state, level='STATE')\n",
    "    #start_date = state_data.index.min()\n",
    "    \n",
    "    #dftest.index=dftest.reindex(alldates, fill_value=0)\n",
    "    \n",
    "    alldates = pd.date_range(start_date, maxdates[aus_state]) #All days from start_date to the last infection day.\n",
    "    local_statedict[aus_state] = state_data.reindex(alldates, fill_value=0)\n",
    "    \n",
    "for aus_state in statelist:\n",
    "    state_data = imported_infs.xs(aus_state, level='STATE')\n",
    "    alldates = pd.date_range(start_date, maxdates[aus_state])\n",
    "    imported_statedict[aus_state] = state_data.reindex(alldates, fill_value=0)"
   ]
  },
  {
   "cell_type": "code",
   "execution_count": null,
   "metadata": {},
   "outputs": [],
   "source": [
    "#Convert dictionaries to data frames\n",
    "df_local_inc_zeros = pd.concat(local_statedict)\n",
    "df_local_inc_zeros['SOURCE']='local'\n",
    "df_imp_inc_zeros = pd.concat(imported_statedict)\n",
    "df_imp_inc_zeros['SOURCE']='imported'"
   ]
  },
  {
   "cell_type": "code",
   "execution_count": null,
   "metadata": {},
   "outputs": [],
   "source": [
    "#Merge dataframes and reindex. \n",
    "df_inc_zeros = pd.concat([df_local_inc_zeros, df_imp_inc_zeros])\n",
    "\n",
    "df_inc_zeros = df_inc_zeros.reset_index()\n",
    "df_inc_zeros= df_inc_zeros.groupby(['level_0',\"level_1\",\"SOURCE\"]).sum()\n",
    "df_inc_zeros.index = df_inc_zeros.index.rename(['STATE','INFECTION_DATE',\"SOURCE\"])"
   ]
  },
  {
   "cell_type": "code",
   "execution_count": null,
   "metadata": {},
   "outputs": [],
   "source": [
    "df_inc_zeros.head()\n",
    "\n",
    "#to_csv, etc. "
   ]
  },
  {
   "cell_type": "code",
   "execution_count": null,
   "metadata": {},
   "outputs": [],
   "source": [
    "np.sum(df_inc_zeros, axis=0) #Differences in numbers: start date?"
   ]
  },
  {
   "cell_type": "markdown",
   "metadata": {},
   "source": [
    "## Part 2: Calculating Lambda"
   ]
  },
  {
   "cell_type": "markdown",
   "metadata": {},
   "source": [
    "$$\n",
    "\\Lambda_t(w_s) = \\sum_{s=1}^t (I_{t-s}^{local} + I_{t-s}^{imported})w_s = \\sum_{s=1}^t I_{t-s}w_s,\n",
    "$$\n",
    "where $w_s$ is the probability that the generation interval is $s$ and $I_t$ is the number of infected individuals at time $t$. "
   ]
  },
  {
   "cell_type": "markdown",
   "metadata": {},
   "source": [
    "### Part 2a: Discretizing the gamma generation interval distribution"
   ]
  },
  {
   "cell_type": "markdown",
   "metadata": {},
   "source": [
    "In the formula for $\\Lambda_t$, we sum over $w$. We should consider generation interval as a discrete random variable here. "
   ]
  },
  {
   "cell_type": "code",
   "execution_count": null,
   "metadata": {},
   "outputs": [],
   "source": [
    "#Define gamma distribution for generation interval\n",
    "mean_gen = 2.5\n",
    "sd_gen = 1.75\n",
    "scale_gen = mean_gen/(sd_gen)**2\n",
    "shape_gen = mean_gen/scale_gen\n"
   ]
  },
  {
   "cell_type": "code",
   "execution_count": null,
   "metadata": {},
   "outputs": [],
   "source": [
    "## Plot gamma pdf over random samples from distribution\n",
    "# xrange = np.linspace(0,25,150)\n",
    "\n",
    "# fig,ax = plt.subplots(figsize=(12,9))\n",
    "# x = np.random.gamma(shape_gen, scale_gen, size = 10000)\n",
    "# print(\"Generation time: \\nMean: %f.2\" %np.mean(x))\n",
    "# print(\"Std: %f.2\" %np.std(x))\n",
    "# w = ax.hist(x,bins=40, density=True)\n",
    "# ax.set_title(\"Generation time distribution\")\n",
    "# ax.plot(xrange, gamma.pdf(xrange, a=shape_gen, scale=scale_gen), linewidth=4,alpha=0.8)"
   ]
  },
  {
   "cell_type": "code",
   "execution_count": null,
   "metadata": {},
   "outputs": [],
   "source": [
    "trunc_days = 21\n",
    "shift=0\n",
    "xmids = [x+shift for x in range(trunc_days+1)] #Find midpoints for discretisation\n",
    "gamma_vals = gamma.pdf(xmids, a=shape_gen, scale=scale_gen)\n",
    "disc_gamma = gamma_vals/sum(gamma_vals)"
   ]
  },
  {
   "cell_type": "code",
   "execution_count": null,
   "metadata": {},
   "outputs": [],
   "source": [
    "print(\"Sum of gamma values is \" + str(sum(gamma_vals))+\"; \\n Sum of discretised gamma values is \" + str(sum(disc_gamma)))"
   ]
  },
  {
   "cell_type": "code",
   "execution_count": null,
   "metadata": {},
   "outputs": [],
   "source": [
    "xrange = np.linspace(0,trunc_days,150)\n",
    "fig,ax = plt.subplots(figsize=(12,9))\n",
    "w = ax.bar(xmids,height=disc_gamma, width=1)\n",
    "ax.set_title(\"Generation time distribution\")\n",
    "ax.plot(xrange, gamma.pdf(xrange, a=shape_gen, scale=scale_gen), linewidth=4,alpha=0.8, color=\"orange\")\n",
    "ax.set_xlabel('Days')"
   ]
  },
  {
   "cell_type": "markdown",
   "metadata": {},
   "source": [
    "### Part 2b: Actually calculating $\\Lambda$"
   ]
  },
  {
   "cell_type": "code",
   "execution_count": null,
   "metadata": {},
   "outputs": [],
   "source": [
    "# We use the total number of infected individuals, so use total I.\n",
    "I_total = df_total.drop('local',1)\n"
   ]
  },
  {
   "cell_type": "code",
   "execution_count": null,
   "metadata": {},
   "outputs": [],
   "source": [
    "#Summing over s from 1 to t means that t is the maximum value of the generation interval. \n",
    "#21 here. So we should filter the data to 21 days before whenever \n",
    "I_total=I_total.reset_index()"
   ]
  },
  {
   "cell_type": "code",
   "execution_count": null,
   "metadata": {},
   "outputs": [],
   "source": [
    "#Test on one state before parallelising?\n",
    "onestate='NSW'\n",
    "input_state = I_total[I_total.STATE=='NSW']"
   ]
  },
  {
   "cell_type": "code",
   "execution_count": null,
   "metadata": {},
   "outputs": [],
   "source": [
    "tmax = input_state['infection_date'].max()"
   ]
  },
  {
   "cell_type": "code",
   "execution_count": null,
   "metadata": {},
   "outputs": [],
   "source": [
    "#input a vector of infection dates and total values.\n",
    "tstart= tmax-np.timedelta64(trunc_days,'D')\n"
   ]
  },
  {
   "cell_type": "code",
   "execution_count": null,
   "metadata": {},
   "outputs": [],
   "source": [
    "relevant_dates = pd.date_range(tstart, tmax-np.timedelta64(1,'D'))\n",
    "reldates = input_state['total'][input_state.infection_date.isin(relevant_dates)]\n",
    "ws = [*reversed(disc_gamma[1:(trunc_days+1)])]\n",
    "lambda_t=sum(reldates*ws)"
   ]
  },
  {
   "cell_type": "code",
   "execution_count": null,
   "metadata": {},
   "outputs": [],
   "source": [
    "lambda_t"
   ]
  },
  {
   "cell_type": "code",
   "execution_count": null,
   "metadata": {},
   "outputs": [],
   "source": []
  },
  {
   "cell_type": "code",
   "execution_count": null,
   "metadata": {},
   "outputs": [],
   "source": []
  }
 ],
 "metadata": {
  "kernelspec": {
   "display_name": "Python 3",
   "language": "python",
   "name": "python3"
  },
  "language_info": {
   "codemirror_mode": {
    "name": "ipython",
    "version": 3
   },
   "file_extension": ".py",
   "mimetype": "text/x-python",
   "name": "python",
   "nbconvert_exporter": "python",
   "pygments_lexer": "ipython3",
   "version": "3.7.3"
  }
 },
 "nbformat": 4,
 "nbformat_minor": 4
}
