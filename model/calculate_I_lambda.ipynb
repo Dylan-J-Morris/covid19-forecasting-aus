{
 "cells": [
  {
   "cell_type": "code",
   "execution_count": 1,
   "metadata": {},
   "outputs": [],
   "source": [
    "import pandas as pd\n",
    "import numpy as np\n",
    "import matplotlib.pyplot as plt\n",
    "import seaborn as sns\n",
    "\n",
    "plt.style.use('seaborn-poster')\n",
    "from datetime import datetime as dt\n",
    "from datetime import timedelta\n",
    "import glob\n",
    "    \n",
    "from Reff_functions import *\n",
    "from Reff_constants import *\n",
    "from scipy.stats import gamma\n"
   ]
  },
  {
   "cell_type": "code",
   "execution_count": 2,
   "metadata": {},
   "outputs": [],
   "source": [
    "#Code taken from read_in_cases from Reff_functions. Preprocessing was not helpful for this situation.\n",
    "\n",
    "case_file_date='31Jul'\n",
    "path = \"../data/COVID-19 UoM \"+case_file_date+\"*.xlsx\"\n",
    "\n",
    "for file in glob.glob(path):\n",
    "    df_NNDSS = pd.read_excel(file,\n",
    "                       parse_dates=['SPECIMEN_DATE','NOTIFICATION_DATE','NOTIFICATION_RECEIVE_DATE','TRUE_ONSET_DATE'],\n",
    "                       dtype= {'PLACE_OF_ACQUISITION':str})\n",
    "    df_NNDSS.PLACE_OF_ACQUISITION.fillna('00038888',inplace=True) #Fill blanks with simply unknown\n",
    "\n",
    "   # df_NNDSS['date_inferred'] = df_NNDSS.TRUE_ONSET_DATE\n",
    "  #  df_NNDSS.loc[df_NNDSS.TRUE_ONSET_DATE.isna(),'date_inferred'] = df_NNDSS.loc[df_NNDSS.TRUE_ONSET_DATE.isna()].NOTIFICATION_DATE - timedelta(days=5)\n",
    "  #  df_NNDSS.loc[df_NNDSS.date_inferred.isna(),'date_inferred'] = df_NNDSS.loc[df_NNDSS.date_inferred.isna()].NOTIFICATION_RECEIVE_DATE - timedelta(days=6)    \n",
    "df_NNDSS['imported'] = df_NNDSS.PLACE_OF_ACQUISITION.apply(lambda x: 1 if x[-4:]=='8888' and x != '00038888' else 0)\n",
    "df_NNDSS['local'] = 1 - df_NNDSS.imported\n",
    "\n",
    "df_interim = df_NNDSS[['NOTIFICATION_DATE','STATE','imported','local']] \n",
    "# Importantly, imported and local are indicator variables in df_interim.\n",
    "\n",
    "#df_state = df_NNDSS[['NOTIFICATION_DATE','STATE','imported','local']].groupby(['STATE','NOTIFICATION_DATE']).sum()"
   ]
  },
  {
   "cell_type": "code",
   "execution_count": 3,
   "metadata": {},
   "outputs": [],
   "source": [
    "df_interim = df_interim[~df_interim.NOTIFICATION_DATE.isna()] #Get rid of non-existent dates."
   ]
  },
  {
   "cell_type": "code",
   "execution_count": 4,
   "metadata": {},
   "outputs": [
    {
     "data": {
      "text/html": [
       "<div>\n",
       "<style scoped>\n",
       "    .dataframe tbody tr th:only-of-type {\n",
       "        vertical-align: middle;\n",
       "    }\n",
       "\n",
       "    .dataframe tbody tr th {\n",
       "        vertical-align: top;\n",
       "    }\n",
       "\n",
       "    .dataframe thead th {\n",
       "        text-align: right;\n",
       "    }\n",
       "</style>\n",
       "<table border=\"1\" class=\"dataframe\">\n",
       "  <thead>\n",
       "    <tr style=\"text-align: right;\">\n",
       "      <th></th>\n",
       "      <th>NOTIFICATION_DATE</th>\n",
       "      <th>STATE</th>\n",
       "      <th>imported</th>\n",
       "      <th>local</th>\n",
       "    </tr>\n",
       "  </thead>\n",
       "  <tbody>\n",
       "    <tr>\n",
       "      <th>113</th>\n",
       "      <td>2020-07-30</td>\n",
       "      <td>NSW</td>\n",
       "      <td>0</td>\n",
       "      <td>1</td>\n",
       "    </tr>\n",
       "    <tr>\n",
       "      <th>114</th>\n",
       "      <td>2020-07-30</td>\n",
       "      <td>NSW</td>\n",
       "      <td>0</td>\n",
       "      <td>1</td>\n",
       "    </tr>\n",
       "    <tr>\n",
       "      <th>115</th>\n",
       "      <td>2020-07-30</td>\n",
       "      <td>NSW</td>\n",
       "      <td>0</td>\n",
       "      <td>1</td>\n",
       "    </tr>\n",
       "    <tr>\n",
       "      <th>116</th>\n",
       "      <td>2020-07-29</td>\n",
       "      <td>NSW</td>\n",
       "      <td>0</td>\n",
       "      <td>1</td>\n",
       "    </tr>\n",
       "    <tr>\n",
       "      <th>117</th>\n",
       "      <td>2020-07-30</td>\n",
       "      <td>NSW</td>\n",
       "      <td>0</td>\n",
       "      <td>1</td>\n",
       "    </tr>\n",
       "  </tbody>\n",
       "</table>\n",
       "</div>"
      ],
      "text/plain": [
       "    NOTIFICATION_DATE STATE  imported  local\n",
       "113        2020-07-30   NSW         0      1\n",
       "114        2020-07-30   NSW         0      1\n",
       "115        2020-07-30   NSW         0      1\n",
       "116        2020-07-29   NSW         0      1\n",
       "117        2020-07-30   NSW         0      1"
      ]
     },
     "execution_count": 4,
     "metadata": {},
     "output_type": "execute_result"
    }
   ],
   "source": [
    "#Filter out territories\n",
    "df_linel = df_interim[(df_interim['STATE']!='NT') & (df_interim['STATE']!='ACT')]\n",
    "df_linel.head()\n",
    "#df_linel['STATE'].unique()"
   ]
  },
  {
   "cell_type": "markdown",
   "metadata": {},
   "source": [
    "## Part 1: Inferring infection dates\n",
    "$\\Lambda$ depends on the infection date (ID), while the data contains the notification date (ND). We obtain ID through the following relationship:\n",
    "$$\n",
    "ID = ND - reporting\\_delay - incubation\\_period.\n",
    "$$\n",
    "\n"
   ]
  },
  {
   "cell_type": "markdown",
   "metadata": {},
   "source": [
    "A gamma distribution was fitted to case data using the MLE algorithm to produce distributions for reporting delay and incubation period. "
   ]
  },
  {
   "cell_type": "code",
   "execution_count": 5,
   "metadata": {},
   "outputs": [],
   "source": [
    "#gamma draws take arguments (shape, scale)\n",
    "def create_inf_dates(notification_dates, mean_rd=5.47, sd_rd=4.04,\n",
    "                    mean_inc=2.0, sd_inc=1.41, nreplicates=1):\n",
    "\n",
    "    nsamples = notification_dates.shape[0]\n",
    "\n",
    "#    DEFINE DELAY DISTRIBUTION\n",
    "#     mean_rd = 5.47\n",
    "#     sd_rd = 4.04\n",
    "    scale_rd = mean_rd/(sd_rd)**2\n",
    "    shape_rd = mean_rd/scale_rd\n",
    "\n",
    "    # DEFINE INCUBATION PERIOD DISTRIBUTION\n",
    "#     mean_inc = 2.0\n",
    "#     sd_inc = 1.41\n",
    "    scale_inc = mean_inc/(sd_inc)**2\n",
    "    shape_inc = mean_inc/scale_inc\n",
    "    \n",
    "    #Draw from distributions\n",
    "    inc_period = np.random.gamma(shape_inc, scale_inc, size = (nsamples))\n",
    "    rep_delay = np.random.gamma(shape_rd, scale_rd, size = (nsamples))\n",
    "    \n",
    "    #infection date is id_nd_diff days before notification date.\n",
    "    id_nd_diff = inc_period + rep_delay\n",
    "    \n",
    "    #Minutes aren't included in df. Take the ceiling because the day runs from 0000 to 2359.\n",
    "    whole_day_diff = np.ceil(id_nd_diff) \n",
    "    \n",
    "    #Subtract days off of notification dates.\n",
    "    infection_dates = notification_dates - whole_day_diff.astype('timedelta64[D]')\n",
    "    \n",
    "    return(infection_dates)"
   ]
  },
  {
   "cell_type": "code",
   "execution_count": 6,
   "metadata": {},
   "outputs": [],
   "source": [
    "#Add infection dates to original data frame.\n",
    "df_interim.loc[:,'infection_date'] = create_inf_dates(df_interim['NOTIFICATION_DATE'])"
   ]
  },
  {
   "cell_type": "code",
   "execution_count": 7,
   "metadata": {},
   "outputs": [
    {
     "data": {
      "text/html": [
       "<div>\n",
       "<style scoped>\n",
       "    .dataframe tbody tr th:only-of-type {\n",
       "        vertical-align: middle;\n",
       "    }\n",
       "\n",
       "    .dataframe tbody tr th {\n",
       "        vertical-align: top;\n",
       "    }\n",
       "\n",
       "    .dataframe thead th {\n",
       "        text-align: right;\n",
       "    }\n",
       "</style>\n",
       "<table border=\"1\" class=\"dataframe\">\n",
       "  <thead>\n",
       "    <tr style=\"text-align: right;\">\n",
       "      <th></th>\n",
       "      <th>NOTIFICATION_DATE</th>\n",
       "      <th>STATE</th>\n",
       "      <th>imported</th>\n",
       "      <th>local</th>\n",
       "      <th>infection_date</th>\n",
       "    </tr>\n",
       "  </thead>\n",
       "  <tbody>\n",
       "    <tr>\n",
       "      <th>0</th>\n",
       "      <td>2020-07-09</td>\n",
       "      <td>ACT</td>\n",
       "      <td>0</td>\n",
       "      <td>1</td>\n",
       "      <td>2020-07-01</td>\n",
       "    </tr>\n",
       "    <tr>\n",
       "      <th>1</th>\n",
       "      <td>2020-07-08</td>\n",
       "      <td>ACT</td>\n",
       "      <td>0</td>\n",
       "      <td>1</td>\n",
       "      <td>2020-07-01</td>\n",
       "    </tr>\n",
       "    <tr>\n",
       "      <th>2</th>\n",
       "      <td>2020-07-09</td>\n",
       "      <td>ACT</td>\n",
       "      <td>0</td>\n",
       "      <td>1</td>\n",
       "      <td>2020-07-04</td>\n",
       "    </tr>\n",
       "    <tr>\n",
       "      <th>3</th>\n",
       "      <td>2020-07-08</td>\n",
       "      <td>ACT</td>\n",
       "      <td>0</td>\n",
       "      <td>1</td>\n",
       "      <td>2020-07-03</td>\n",
       "    </tr>\n",
       "    <tr>\n",
       "      <th>4</th>\n",
       "      <td>2020-07-08</td>\n",
       "      <td>ACT</td>\n",
       "      <td>0</td>\n",
       "      <td>1</td>\n",
       "      <td>2020-07-01</td>\n",
       "    </tr>\n",
       "  </tbody>\n",
       "</table>\n",
       "</div>"
      ],
      "text/plain": [
       "  NOTIFICATION_DATE STATE  imported  local infection_date\n",
       "0        2020-07-09   ACT         0      1     2020-07-01\n",
       "1        2020-07-08   ACT         0      1     2020-07-01\n",
       "2        2020-07-09   ACT         0      1     2020-07-04\n",
       "3        2020-07-08   ACT         0      1     2020-07-03\n",
       "4        2020-07-08   ACT         0      1     2020-07-01"
      ]
     },
     "execution_count": 7,
     "metadata": {},
     "output_type": "execute_result"
    }
   ],
   "source": [
    "df_interim.head()"
   ]
  },
  {
   "cell_type": "code",
   "execution_count": 8,
   "metadata": {},
   "outputs": [],
   "source": [
    "df_state = df_interim[['infection_date','STATE','imported','local']].groupby(['STATE','infection_date']).sum()"
   ]
  },
  {
   "cell_type": "code",
   "execution_count": 9,
   "metadata": {},
   "outputs": [
    {
     "data": {
      "text/html": [
       "<div>\n",
       "<style scoped>\n",
       "    .dataframe tbody tr th:only-of-type {\n",
       "        vertical-align: middle;\n",
       "    }\n",
       "\n",
       "    .dataframe tbody tr th {\n",
       "        vertical-align: top;\n",
       "    }\n",
       "\n",
       "    .dataframe thead th {\n",
       "        text-align: right;\n",
       "    }\n",
       "</style>\n",
       "<table border=\"1\" class=\"dataframe\">\n",
       "  <thead>\n",
       "    <tr style=\"text-align: right;\">\n",
       "      <th></th>\n",
       "      <th></th>\n",
       "      <th>imported</th>\n",
       "      <th>local</th>\n",
       "    </tr>\n",
       "    <tr>\n",
       "      <th>STATE</th>\n",
       "      <th>infection_date</th>\n",
       "      <th></th>\n",
       "      <th></th>\n",
       "    </tr>\n",
       "  </thead>\n",
       "  <tbody>\n",
       "    <tr>\n",
       "      <th rowspan=\"5\" valign=\"top\">WA</th>\n",
       "      <th>2020-05-14</th>\n",
       "      <td>1</td>\n",
       "      <td>0</td>\n",
       "    </tr>\n",
       "    <tr>\n",
       "      <th>2020-05-18</th>\n",
       "      <td>1</td>\n",
       "      <td>0</td>\n",
       "    </tr>\n",
       "    <tr>\n",
       "      <th>2020-05-20</th>\n",
       "      <td>1</td>\n",
       "      <td>0</td>\n",
       "    </tr>\n",
       "    <tr>\n",
       "      <th>2020-05-21</th>\n",
       "      <td>1</td>\n",
       "      <td>0</td>\n",
       "    </tr>\n",
       "    <tr>\n",
       "      <th>2020-05-22</th>\n",
       "      <td>1</td>\n",
       "      <td>0</td>\n",
       "    </tr>\n",
       "  </tbody>\n",
       "</table>\n",
       "</div>"
      ],
      "text/plain": [
       "                      imported  local\n",
       "STATE infection_date                 \n",
       "WA    2020-05-14             1      0\n",
       "      2020-05-18             1      0\n",
       "      2020-05-20             1      0\n",
       "      2020-05-21             1      0\n",
       "      2020-05-22             1      0"
      ]
     },
     "execution_count": 9,
     "metadata": {},
     "output_type": "execute_result"
    }
   ],
   "source": [
    "df_state.tail()"
   ]
  },
  {
   "cell_type": "code",
   "execution_count": 10,
   "metadata": {},
   "outputs": [
    {
     "data": {
      "text/html": [
       "<div>\n",
       "<style scoped>\n",
       "    .dataframe tbody tr th:only-of-type {\n",
       "        vertical-align: middle;\n",
       "    }\n",
       "\n",
       "    .dataframe tbody tr th {\n",
       "        vertical-align: top;\n",
       "    }\n",
       "\n",
       "    .dataframe thead th {\n",
       "        text-align: right;\n",
       "    }\n",
       "</style>\n",
       "<table border=\"1\" class=\"dataframe\">\n",
       "  <thead>\n",
       "    <tr style=\"text-align: right;\">\n",
       "      <th></th>\n",
       "      <th></th>\n",
       "      <th>local</th>\n",
       "      <th>total</th>\n",
       "    </tr>\n",
       "    <tr>\n",
       "      <th>STATE</th>\n",
       "      <th>infection_date</th>\n",
       "      <th></th>\n",
       "      <th></th>\n",
       "    </tr>\n",
       "  </thead>\n",
       "  <tbody>\n",
       "    <tr>\n",
       "      <th rowspan=\"5\" valign=\"top\">ACT</th>\n",
       "      <th>2020-03-05</th>\n",
       "      <td>1</td>\n",
       "      <td>1</td>\n",
       "    </tr>\n",
       "    <tr>\n",
       "      <th>2020-03-06</th>\n",
       "      <td>1</td>\n",
       "      <td>1</td>\n",
       "    </tr>\n",
       "    <tr>\n",
       "      <th>2020-03-07</th>\n",
       "      <td>0</td>\n",
       "      <td>1</td>\n",
       "    </tr>\n",
       "    <tr>\n",
       "      <th>2020-03-09</th>\n",
       "      <td>0</td>\n",
       "      <td>1</td>\n",
       "    </tr>\n",
       "    <tr>\n",
       "      <th>2020-03-10</th>\n",
       "      <td>0</td>\n",
       "      <td>1</td>\n",
       "    </tr>\n",
       "  </tbody>\n",
       "</table>\n",
       "</div>"
      ],
      "text/plain": [
       "                      local  total\n",
       "STATE infection_date              \n",
       "ACT   2020-03-05          1      1\n",
       "      2020-03-06          1      1\n",
       "      2020-03-07          0      1\n",
       "      2020-03-09          0      1\n",
       "      2020-03-10          0      1"
      ]
     },
     "execution_count": 10,
     "metadata": {},
     "output_type": "execute_result"
    }
   ],
   "source": [
    "df_total = df_state\n",
    "df_total['total'] = df_total['imported'] + df_total['local']\n",
    "df_total = df_total.drop('imported',1)\n",
    "df_total.head()"
   ]
  },
  {
   "cell_type": "markdown",
   "metadata": {},
   "source": [
    "INCLUDE COMPLETELY ZERO DAYS! \n",
    "for state in df_total[] \n",
    "Use pandas reindex for this.\n",
    "\n",
    "What should date range be? From day of interest (1 March/1June) to either maximum date in data frame or maximum date in each state?"
   ]
  },
  {
   "cell_type": "markdown",
   "metadata": {},
   "source": [
    "## Part 2: Calculating Lambda"
   ]
  },
  {
   "cell_type": "markdown",
   "metadata": {},
   "source": [
    "$$\n",
    "\\Lambda_t(w_s) = \\sum_{s=1}^t (I_{t-s}^{local} + I_{t-s}^{imported})w_s = \\sum_{s=1}^t I_{t-s}w_s,\n",
    "$$\n",
    "where $w_s$ is the probability that the generation interval is $s$ and $I_t$ is the number of infected individuals at time $t$. "
   ]
  },
  {
   "cell_type": "markdown",
   "metadata": {},
   "source": [
    "### Part 2a: Discretizing the gamma generation interval distribution"
   ]
  },
  {
   "cell_type": "markdown",
   "metadata": {},
   "source": [
    "In the formula for $\\Lambda_t$, we sum over $w$. We should consider generation interval as a discrete random variable here. "
   ]
  },
  {
   "cell_type": "code",
   "execution_count": 29,
   "metadata": {},
   "outputs": [],
   "source": [
    "#Define gamma distribution for generation interval\n",
    "mean_gen = 2.5\n",
    "sd_gen = 1.75\n",
    "scale_gen = mean_gen/(sd_gen)**2\n",
    "shape_gen = mean_gen/scale_gen\n"
   ]
  },
  {
   "cell_type": "code",
   "execution_count": 50,
   "metadata": {},
   "outputs": [
    {
     "name": "stdout",
     "output_type": "stream",
     "text": [
      "Generation time: \n",
      "Mean: 2.507810.2\n",
      "Std: 1.424258.2\n"
     ]
    },
    {
     "data": {
      "text/plain": [
       "[<matplotlib.lines.Line2D at 0x7ff4f0401f50>]"
      ]
     },
     "execution_count": 50,
     "metadata": {},
     "output_type": "execute_result"
    },
    {
     "data": {
      "image/png": "[encoded data removed]",
      "text/plain": [
       "<Figure size 864x648 with 1 Axes>"
      ]
     },
     "metadata": {
      "needs_background": "light"
     },
     "output_type": "display_data"
    }
   ],
   "source": [
    "#Plot gamma pdf over samples from distribution\n",
    "xrange = np.linspace(0,25,150)\n",
    "\n",
    "fig,ax = plt.subplots(figsize=(12,9))\n",
    "x = np.random.gamma(shape_gen, scale_gen, size = 10000)\n",
    "print(\"Generation time: \\nMean: %f.2\" %np.mean(x))\n",
    "print(\"Std: %f.2\" %np.std(x))\n",
    "w = ax.hist(x,bins=40, density=True)\n",
    "ax.set_title(\"Generation time distribution\")\n",
    "ax.plot(xrange, gamma.pdf(xrange, a=shape_gen, scale=scale_gen), linewidth=4,alpha=0.8)"
   ]
  },
  {
   "cell_type": "code",
   "execution_count": 66,
   "metadata": {},
   "outputs": [],
   "source": [
    "trunc_days = 21\n",
    "shift=0\n",
    "xmids = [x+shift for x in range(trunc_days+1)] #Find midpoints for discretisation\n",
    "gamma_vals = gamma.pdf(xmids, a=shape_gen, scale=scale_gen)\n",
    "disc_gamma = gamma_vals/sum(gamma_vals)"
   ]
  },
  {
   "cell_type": "code",
   "execution_count": 67,
   "metadata": {},
   "outputs": [
    {
     "name": "stdout",
     "output_type": "stream",
     "text": [
      "Sum of gamma values is 0.9936691617045523; \n",
      " Sum of discretised gamma values is 1.0000000000000002\n"
     ]
    }
   ],
   "source": [
    "print(\"Sum of gamma values is \" + str(sum(gamma_vals))+\"; \\n Sum of discretised gamma values is \" + str(sum(disc_gamma)))"
   ]
  },
  {
   "cell_type": "code",
   "execution_count": 72,
   "metadata": {},
   "outputs": [
    {
     "data": {
      "text/plain": [
       "Text(0.5, 0, 'Days')"
      ]
     },
     "execution_count": 72,
     "metadata": {},
     "output_type": "execute_result"
    },
    {
     "data": {
      "image/png": "[encoded data removed]",
      "text/plain": [
       "<Figure size 864x648 with 1 Axes>"
      ]
     },
     "metadata": {
      "needs_background": "light"
     },
     "output_type": "display_data"
    }
   ],
   "source": [
    "xrange = np.linspace(0,trunc_days,150)\n",
    "fig,ax = plt.subplots(figsize=(12,9))\n",
    "w = ax.bar(xmids,height=disc_gamma, width=1)\n",
    "ax.set_title(\"Generation time distribution\")\n",
    "ax.plot(xrange, gamma.pdf(xrange, a=shape_gen, scale=scale_gen), linewidth=4,alpha=0.8, color=\"orange\")\n",
    "ax.set_xlabel('Days')"
   ]
  },
  {
   "cell_type": "markdown",
   "metadata": {},
   "source": [
    "### Part 2b: Actually calculating $\\Lambda$"
   ]
  },
  {
   "cell_type": "code",
   "execution_count": 85,
   "metadata": {},
   "outputs": [
    {
     "data": {
      "text/plain": [
       "Timestamp('2020-07-25 00:00:00')"
      ]
     },
     "execution_count": 85,
     "metadata": {},
     "output_type": "execute_result"
    }
   ],
   "source": [
    "# We use the total number of infected individuals, so use total I.\n",
    "I_total = df_total.drop('local',1)\n"
   ]
  },
  {
   "cell_type": "code",
   "execution_count": 90,
   "metadata": {},
   "outputs": [],
   "source": [
    "#Summing over s from 1 to t means that t is the maximum value of the generation interval. \n",
    "#21 here. So we should filter the data to 21 days before whenever \n",
    "I_total=I_total.reset_index()"
   ]
  },
  {
   "cell_type": "code",
   "execution_count": 91,
   "metadata": {},
   "outputs": [],
   "source": [
    "#Test on one state before parallelising?\n",
    "onestate='NSW'\n",
    "input_state = I_total[I_total.STATE=='NSW']"
   ]
  },
  {
   "cell_type": "code",
   "execution_count": 102,
   "metadata": {},
   "outputs": [],
   "source": [
    "tmax = input_state['infection_date'].max()"
   ]
  },
  {
   "cell_type": "code",
   "execution_count": 103,
   "metadata": {},
   "outputs": [],
   "source": [
    "#input a vector of infection dates and total values.\n",
    "tstart= tmax-np.timedelta64(trunc_days,'D')\n"
   ]
  },
  {
   "cell_type": "code",
   "execution_count": 145,
   "metadata": {},
   "outputs": [],
   "source": [
    "relevant_dates = pd.date_range(tstart, tmax-np.timedelta64(1,'D'))\n",
    "reldates = input_state['total'][input_state.infection_date.isin(relevant_dates)]\n",
    "ws = [*reversed(disc_gamma[1:(trunc_days+1)])]\n",
    "lambda_t=sum(reldates*ws)"
   ]
  },
  {
   "cell_type": "code",
   "execution_count": 146,
   "metadata": {},
   "outputs": [
    {
     "data": {
      "text/plain": [
       "7.002299299794061"
      ]
     },
     "execution_count": 146,
     "metadata": {},
     "output_type": "execute_result"
    }
   ],
   "source": [
    "lambda_t"
   ]
  },
  {
   "cell_type": "code",
   "execution_count": 150,
   "metadata": {},
   "outputs": [
    {
     "data": {
      "text/plain": [
       "Timestamp('2020-07-22 00:00:00')"
      ]
     },
     "execution_count": 150,
     "metadata": {},
     "output_type": "execute_result"
    }
   ],
   "source": []
  },
  {
   "cell_type": "code",
   "execution_count": null,
   "metadata": {},
   "outputs": [],
   "source": []
  }
 ],
 "metadata": {
  "kernelspec": {
   "display_name": "Python 3",
   "language": "python",
   "name": "python3"
  },
  "language_info": {
   "codemirror_mode": {
    "name": "ipython",
    "version": 3
   },
   "file_extension": ".py",
   "mimetype": "text/x-python",
   "name": "python",
   "nbconvert_exporter": "python",
   "pygments_lexer": "ipython3",
   "version": "3.7.6"
  }
 },
 "nbformat": 4,
 "nbformat_minor": 4
}
